{
 "cells": [
  {
   "cell_type": "markdown",
   "metadata": {},
   "source": [
    "# Equal-Weight S&P 500 Index Fund\n",
    "\n",
    "## Introduction & Library Imports\n",
    "\n",
    "The S&P 500 is the world's most popular stock market index. The largest fund that is benchmarked to this index is the SPDR® S&P 500® ETF Trust. It has more than US$250 billion of assets under management.  The S&P 500 is market capital-weighted, so larger companies are over-represented and smaller companies are under-represented.\n",
    "\n",
    "The goal of this section of the course is to create a Python script that will accept the value of your portfolio and tell you how many shares of each S&P 500 constituent you should purchase to get an equal-weight version of the index fund.\n",
    "\n",
    "## Library Imports\n",
    "\n",
    "The first thing we need to do is import the open-source software libraries that we'll be using in this tutorial."
   ]
  },
  {
   "cell_type": "code",
   "execution_count": 1,
   "metadata": {},
   "outputs": [],
   "source": [
    "import numpy as np\n",
    "import pandas as pd\n",
    "import requests\n",
    "import xlsxwriter\n",
    "import math"
   ]
  },
  {
   "cell_type": "markdown",
   "metadata": {},
   "source": [
    "## Importing Our List of Stocks\n",
    "\n",
    "The next thing we need to do is import the constituents of the S&P 500.\n",
    "\n",
    "These constituents change over time, so in an ideal world you would connect directly to the index provider (Standard & Poor's) and pull their real-time constituents on a regular basis.\n",
    "\n",
    "Paying for access to the index provider's API is outside of the scope of this course. \n",
    "\n",
    "There's a static version of the S&P 500 constituents available here. [Click this link to download them now](https://drive.google.com/file/d/1ZJSpbY69DVckVZlO9cC6KkgfSufybcHN/view?usp=sharing). Move this file into the `starter-files` folder so it can be accessed by other files in that directory.\n",
    "\n",
    "Now it's time to import these stocks to our Jupyter Notebook file."
   ]
  },
  {
   "cell_type": "code",
   "execution_count": 2,
   "metadata": {},
   "outputs": [],
   "source": [
    "stocks = pd.read_csv(\"sp_500_stocks.csv\")"
   ]
  },
  {
   "cell_type": "code",
   "execution_count": 3,
   "metadata": {},
   "outputs": [
    {
     "name": "stdout",
     "output_type": "stream",
     "text": [
      "    Ticker\n",
      "0        A\n",
      "1      AAL\n",
      "2      AAP\n",
      "3     AAPL\n",
      "4     ABBV\n",
      "..     ...\n",
      "500    YUM\n",
      "501    ZBH\n",
      "502   ZBRA\n",
      "503   ZION\n",
      "504    ZTS\n",
      "\n",
      "[505 rows x 1 columns]\n"
     ]
    }
   ],
   "source": [
    "print(stocks)"
   ]
  },
  {
   "cell_type": "markdown",
   "metadata": {},
   "source": [
    "Some stocks have [dual stock structures](https://www.investopedia.com/terms/d/dualclassstock.asp) (for example, Google has Class-A and Class-B shares), which is why there are more than 500 stocks."
   ]
  },
  {
   "cell_type": "markdown",
   "metadata": {},
   "source": [
    "## Acquiring an API Token\n",
    "\n",
    "Now it's time to import our IEX Cloud API token. This is the data provider that we will be using throughout this course.\n",
    "\n",
    "API tokens (and other sensitive information) should be stored in a `secrets.py` file that doesn't get pushed to your local Git repository. We'll be using a sandbox API token in this course, which means that the data we'll use is randomly-generated and (more importantly) has no cost associated with it.\n",
    "\n",
    "[Click here](http://nickmccullum.com/algorithmic-trading-python/secrets.py) to download your `secrets.py` file. Move the file into the same directory as this Jupyter Notebook before proceeding."
   ]
  },
  {
   "cell_type": "code",
   "execution_count": 4,
   "metadata": {},
   "outputs": [],
   "source": [
    "from secrets import IEX_CLOUD_API_TOKEN"
   ]
  },
  {
   "cell_type": "markdown",
   "metadata": {},
   "source": [
    "## Making Our First API Call\n",
    "\n",
    "Now it's time to structure our API calls to IEX cloud. \n",
    "\n",
    "We need the following information from the API:\n",
    "\n",
    "* Market capitalization for each stock\n",
    "* Price of each stock\n",
    "\n"
   ]
  },
  {
   "cell_type": "code",
   "execution_count": 9,
   "metadata": {},
   "outputs": [
    {
     "name": "stdout",
     "output_type": "stream",
     "text": [
      "200\n",
      "{'symbol': 'AAPL', 'companyName': 'Apple Inc', 'primaryExchange': 'S NLD/ OENTAS)GATAGEELRKAL MSQBC(', 'calculationPrice': 'close', 'open': 137, 'openTime': 1620560346623, 'openSource': 'fficaiol', 'close': 135.51, 'closeTime': 1675883659193, 'closeSource': 'ilciafof', 'high': 137.5, 'highTime': 1680121486467, 'highSource': 'neutce5 ildierd1pme a y', 'low': 134.73, 'lowTime': 1664021296400, 'lowSource': 'ecideart5yeliemn1 d  up', 'latestPrice': 138.03, 'latestSource': 'Close', 'latestTime': 'December 31, 2020', 'latestUpdate': 1687097669110, 'latestVolume': 102514731, 'iexRealtimePrice': None, 'iexRealtimeSize': None, 'iexLastUpdated': None, 'delayedPrice': 135.91, 'delayedPriceTime': 1678695159196, 'oddLotDelayedPrice': 136.28, 'oddLotDelayedPriceTime': 1649608932698, 'extendedPrice': 138.68, 'extendedChange': 0.05, 'extendedChangePercent': 0.00039, 'extendedPriceTime': 1670273931812, 'previousClose': 138.54, 'previousVolume': 96871609, 'change': -1.04, 'changePercent': -0.008, 'volume': 101664129, 'iexMarketPercent': None, 'iexVolume': None, 'avgTotalVolume': 110335309, 'iexBidPrice': None, 'iexBidSize': None, 'iexAskPrice': None, 'iexAskSize': None, 'iexOpen': 135.48, 'iexOpenTime': 1666189563072, 'iexClose': 137.77, 'iexCloseTime': 1677320244907, 'marketCap': 2275592911654, 'peRatio': 41.2, 'week52High': 139.79, 'week52Low': 56.71, 'ytdChange': -0.0079, 'lastTradeTime': 1614656424804, 'isUSMarketOpen': False}\n"
     ]
    }
   ],
   "source": [
    "symbol=\"AAPL\"\n",
    "api_url=f\"https://sandbox.iexapis.com/stable/stock/{symbol}/quote?token={IEX_CLOUD_API_TOKEN}\"\n",
    "data = requests.get(api_url)\n",
    "print(data.status_code)\n",
    "data = data.json()\n",
    "print(data)"
   ]
  },
  {
   "cell_type": "markdown",
   "metadata": {},
   "source": [
    "## Parsing Our API Call\n",
    "\n",
    "The API call that we executed in the last code block contains all of the information required to build our equal-weight S&P 500 strategy. \n",
    "\n",
    "With that said, the data isn't in a proper format yet. We need to parse it first."
   ]
  },
  {
   "cell_type": "code",
   "execution_count": 12,
   "metadata": {},
   "outputs": [
    {
     "name": "stdout",
     "output_type": "stream",
     "text": [
      "138.03\n",
      "2275592911654\n"
     ]
    }
   ],
   "source": [
    "price = data['latestPrice']\n",
    "print(price)\n",
    "market_cap = data['marketCap']\n",
    "print(market_cap)"
   ]
  },
  {
   "cell_type": "markdown",
   "metadata": {},
   "source": [
    "## Adding Our Stocks Data to a Pandas DataFrame\n",
    "\n",
    "The next thing we need to do is add our stock's price and market capitalization to a pandas DataFrame. Think of a DataFrame like the Python version of a spreadsheet. It stores tabular data."
   ]
  },
  {
   "cell_type": "code",
   "execution_count": 42,
   "metadata": {},
   "outputs": [],
   "source": [
    "# function to get dict with info about each stock\n",
    "def get_stock(symbol):\n",
    "    api_url=f\"https://sandbox.iexapis.com/stable/stock/{symbol}/quote?token={IEX_CLOUD_API_TOKEN}\"\n",
    "    return requests.get(api_url).json()\n"
   ]
  },
  {
   "cell_type": "code",
   "execution_count": 43,
   "metadata": {},
   "outputs": [
    {
     "name": "stdout",
     "output_type": "stream",
     "text": [
      "A: price 123.83, market_cap 37381151477 \n",
      "AAL: price 16.32, market_cap 9901269709 \n",
      "AAP: price 159.08, market_cap 11163593077 \n",
      "AAPL: price 135.18, market_cap 2364776393111 \n",
      "ABBV: price 107.88, market_cap 193726349158 \n"
     ]
    }
   ],
   "source": [
    "# test get_stock function\n",
    "for symbol in stocks['Ticker'][0:5]:\n",
    "    data = get_stock(symbol)\n",
    "    print(f\"{symbol}: price {data['latestPrice']}, market_cap {data['marketCap']} \")\n",
    "    "
   ]
  },
  {
   "cell_type": "code",
   "execution_count": 44,
   "metadata": {},
   "outputs": [],
   "source": [
    "# create dataframe\n",
    "my_columns = ('ticker', 'stock_price', 'market_capitalization', 'n_shares')\n",
    "final_df = pd.DataFrame(columns = my_columns)"
   ]
  },
  {
   "cell_type": "markdown",
   "metadata": {},
   "source": [
    "## Looping Through The Tickers in Our List of Stocks\n",
    "\n",
    "Using the same logic that we outlined above, we can pull data for all S&P 500 stocks and store their data in the DataFrame using a `for` loop."
   ]
  },
  {
   "cell_type": "code",
   "execution_count": 45,
   "metadata": {},
   "outputs": [],
   "source": [
    "# only do the first five because this is really slow\n",
    "for symbol in stocks['Ticker'][0:5]:\n",
    "    data = get_stock(symbol)\n",
    "    final_df = final_df.append(\n",
    "        pd.Series(\n",
    "            [symbol, data['latestPrice'], data['marketCap'], 'N/A'],\n",
    "            index=my_columns\n",
    "        ),\n",
    "        ignore_index=True\n",
    "    )"
   ]
  },
  {
   "cell_type": "code",
   "execution_count": 46,
   "metadata": {},
   "outputs": [
    {
     "name": "stdout",
     "output_type": "stream",
     "text": [
      "  ticker  stock_price market_capitalization n_shares\n",
      "0      A       123.48           36791280522      N/A\n",
      "1    AAL        16.51            9943410231      N/A\n",
      "2    AAP       160.04           11108262226      N/A\n",
      "3   AAPL       135.43         2294823103861      N/A\n",
      "4   ABBV       109.86          198065501911      N/A\n"
     ]
    }
   ],
   "source": [
    "print(final_df)"
   ]
  },
  {
   "cell_type": "markdown",
   "metadata": {},
   "source": [
    "## Using Batch API Calls to Improve Performance\n",
    "\n",
    "Batch API calls are one of the easiest ways to improve the performance of your code.\n",
    "\n",
    "This is because HTTP requests are typically one of the slowest components of a script.\n",
    "\n",
    "Also, API providers will often give you discounted rates for using batch API calls since they are easier for the API provider to respond to.\n",
    "\n",
    "IEX Cloud limits their batch API calls to 100 tickers per request. Still, this reduces the number of API calls we'll make in this section from 500 to 5 - huge improvement! In this section, we'll split our list of stocks into groups of 100 and then make a batch API call for each group."
   ]
  },
  {
   "cell_type": "code",
   "execution_count": 37,
   "metadata": {},
   "outputs": [],
   "source": [
    "#https://stackoverflow.com/questions/312443/how-do-you-split-a-list-into-evenly-sized-chunks\n",
    "def chunks(lst, n):\n",
    "    \"\"\"Yield successive n-sized chunks from lst.\"\"\"\n",
    "    for i in range(0, len(lst), n):\n",
    "        yield lst[i:i + n]"
   ]
  },
  {
   "cell_type": "code",
   "execution_count": 54,
   "metadata": {},
   "outputs": [],
   "source": [
    "# https://iexcloud.io/docs/api/#batch-requests\n",
    "def get_batch(symbol_list):\n",
    "    url = f\"https://sandbox.iexapis.com/stable/stock/market/batch?symbols={','.join(symbol_list)}&types=quote&token={IEX_CLOUD_API_TOKEN}\"\n",
    "    return requests.get(url).json()\n",
    "\n"
   ]
  },
  {
   "cell_type": "code",
   "execution_count": 59,
   "metadata": {},
   "outputs": [
    {
     "name": "stdout",
     "output_type": "stream",
     "text": [
      "100     CME\n",
      "101     CMG\n",
      "102     CMI\n",
      "103     CMS\n",
      "104     CNC\n",
      "       ... \n",
      "195    FTNT\n",
      "196     FTV\n",
      "197      GD\n",
      "198      GE\n",
      "199    GILD\n",
      "Name: Ticker, Length: 100, dtype: object\n",
      "{'quote': {'symbol': 'A', 'companyName': 'Agilent Technologies Inc.', 'primaryExchange': 'OER N WSOHNKIE CCEX, .GTYACKN', 'calculationPrice': 'close', 'open': 119.62, 'openTime': 1627951319763, 'openSource': 'ioiflfca', 'close': 120.6, 'closeTime': 1650647410432, 'closeSource': 'folicafi', 'high': 120.2, 'highTime': 1665209789460, 'highSource': 're  euitdmedyencpl 51ia', 'low': 120.34, 'lowTime': 1653433255745, 'lowSource': '5rndyticed ea ee 1miupl', 'latestPrice': 123.04, 'latestSource': 'Close', 'latestTime': 'December 31, 2020', 'latestUpdate': 1640367170555, 'latestVolume': 1353932, 'iexRealtimePrice': None, 'iexRealtimeSize': None, 'iexLastUpdated': None, 'delayedPrice': 119.39, 'delayedPriceTime': 1635595107976, 'oddLotDelayedPrice': 123.08, 'oddLotDelayedPriceTime': 1625079721888, 'extendedPrice': 120.18, 'extendedChange': 0, 'extendedChangePercent': 0, 'extendedPriceTime': 1620016455359, 'previousClose': 118.81, 'previousVolume': 1172647, 'change': 1.1, 'changePercent': 0.00952, 'volume': 1312237, 'iexMarketPercent': None, 'iexVolume': None, 'avgTotalVolume': 1671275, 'iexBidPrice': None, 'iexBidSize': None, 'iexAskPrice': None, 'iexAskSize': None, 'iexOpen': 122.28, 'iexOpenTime': 1680439252084, 'iexClose': 122.7, 'iexCloseTime': 1681015873113, 'marketCap': 37266296306, 'peRatio': 55.71, 'week52High': 121, 'week52Low': 65.56, 'ytdChange': 0.00938, 'lastTradeTime': 1683306570263, 'isUSMarketOpen': False}}\n"
     ]
    }
   ],
   "source": [
    "symbol_groups = list(chunks(stocks['Ticker'], 100))\n",
    "print(symbol_groups[1])\n",
    "#print(get_batch(symbol_groups[0]))\n",
    "print(get_batch(symbol_groups[0])['A'])"
   ]
  },
  {
   "cell_type": "code",
   "execution_count": 60,
   "metadata": {},
   "outputs": [],
   "source": [
    "# create dataframe\n",
    "my_columns = ('ticker', 'stock_price', 'market_capitalization', 'n_shares')\n",
    "final_df = pd.DataFrame(columns = my_columns)\n",
    "\n",
    "for symbol_list in chunks(stocks['Ticker'], 100):\n",
    "    data = get_batch(symbol_list)\n",
    "    for symbol in data:\n",
    "        final_df = final_df.append(\n",
    "        pd.Series(\n",
    "            [symbol, data[symbol]['quote']['latestPrice'], data[symbol]['quote']['marketCap'], 'N/A'],\n",
    "            index=my_columns\n",
    "        ),\n",
    "        ignore_index=True\n",
    "    ) "
   ]
  },
  {
   "cell_type": "code",
   "execution_count": 61,
   "metadata": {},
   "outputs": [
    {
     "name": "stdout",
     "output_type": "stream",
     "text": [
      "    ticker  stock_price market_capitalization n_shares\n",
      "0        A       123.69           37523758197      N/A\n",
      "1      AAL        16.01            9881590306      N/A\n",
      "2      AAP       164.40           10916457531      N/A\n",
      "3     AAPL       139.19         2285425949314      N/A\n",
      "4     ABBV       110.54          192663522798      N/A\n",
      "..     ...          ...                   ...      ...\n",
      "500    YUM       111.11           34027277521      N/A\n",
      "501    ZBH       158.07           33119801615      N/A\n",
      "502   ZBRA       393.49           21229515412      N/A\n",
      "503   ZION        44.65            7151705916      N/A\n",
      "504    ZTS       173.70           82166275075      N/A\n",
      "\n",
      "[505 rows x 4 columns]\n"
     ]
    }
   ],
   "source": [
    "print(final_df)"
   ]
  },
  {
   "cell_type": "markdown",
   "metadata": {},
   "source": [
    "## Calculating the Number of Shares to Buy\n",
    "\n",
    "As you can see in the DataFrame above, we stil haven't calculated the number of shares of each stock to buy.\n",
    "\n",
    "We'll do that next."
   ]
  },
  {
   "cell_type": "code",
   "execution_count": 77,
   "metadata": {},
   "outputs": [
    {
     "name": "stdout",
     "output_type": "stream",
     "text": [
      "Enter the size of your portfolio:1000000\n"
     ]
    }
   ],
   "source": [
    "# get total dollar value of portfolio\n",
    "portfolio_size = ''\n",
    "\n",
    "while not isinstance(portfolio_size, float):\n",
    "    try:\n",
    "        portfolio_size = float(input('Enter the size of your portfolio:'))\n",
    "    except ValueError:\n",
    "        print(\"please enter an integer\")"
   ]
  },
  {
   "cell_type": "code",
   "execution_count": 82,
   "metadata": {},
   "outputs": [],
   "source": [
    "# number of shares in each stock to buy is total number of shares divided by portfolio size\n",
    "position_size = portfolio_size / len(final_df)"
   ]
  },
  {
   "cell_type": "code",
   "execution_count": 83,
   "metadata": {},
   "outputs": [],
   "source": [
    "# loop through dataframe\n",
    "for i in range(len(final_df.index)):\n",
    "    price = final_df.loc[i, 'stock_price']\n",
    "    final_df.loc[i, 'n_shares'] = math.floor( position_size / price)\n"
   ]
  },
  {
   "cell_type": "code",
   "execution_count": 80,
   "metadata": {},
   "outputs": [
    {
     "data": {
      "text/html": [
       "<div>\n",
       "<style scoped>\n",
       "    .dataframe tbody tr th:only-of-type {\n",
       "        vertical-align: middle;\n",
       "    }\n",
       "\n",
       "    .dataframe tbody tr th {\n",
       "        vertical-align: top;\n",
       "    }\n",
       "\n",
       "    .dataframe thead th {\n",
       "        text-align: right;\n",
       "    }\n",
       "</style>\n",
       "<table border=\"1\" class=\"dataframe\">\n",
       "  <thead>\n",
       "    <tr style=\"text-align: right;\">\n",
       "      <th></th>\n",
       "      <th>ticker</th>\n",
       "      <th>stock_price</th>\n",
       "      <th>market_capitalization</th>\n",
       "      <th>n_shares</th>\n",
       "    </tr>\n",
       "  </thead>\n",
       "  <tbody>\n",
       "    <tr>\n",
       "      <th>0</th>\n",
       "      <td>A</td>\n",
       "      <td>123.69</td>\n",
       "      <td>37523758197</td>\n",
       "      <td>16</td>\n",
       "    </tr>\n",
       "    <tr>\n",
       "      <th>1</th>\n",
       "      <td>AAL</td>\n",
       "      <td>16.01</td>\n",
       "      <td>9881590306</td>\n",
       "      <td>123</td>\n",
       "    </tr>\n",
       "    <tr>\n",
       "      <th>2</th>\n",
       "      <td>AAP</td>\n",
       "      <td>164.40</td>\n",
       "      <td>10916457531</td>\n",
       "      <td>12</td>\n",
       "    </tr>\n",
       "    <tr>\n",
       "      <th>3</th>\n",
       "      <td>AAPL</td>\n",
       "      <td>139.19</td>\n",
       "      <td>2285425949314</td>\n",
       "      <td>14</td>\n",
       "    </tr>\n",
       "    <tr>\n",
       "      <th>4</th>\n",
       "      <td>ABBV</td>\n",
       "      <td>110.54</td>\n",
       "      <td>192663522798</td>\n",
       "      <td>17</td>\n",
       "    </tr>\n",
       "    <tr>\n",
       "      <th>...</th>\n",
       "      <td>...</td>\n",
       "      <td>...</td>\n",
       "      <td>...</td>\n",
       "      <td>...</td>\n",
       "    </tr>\n",
       "    <tr>\n",
       "      <th>500</th>\n",
       "      <td>YUM</td>\n",
       "      <td>111.11</td>\n",
       "      <td>34027277521</td>\n",
       "      <td>17</td>\n",
       "    </tr>\n",
       "    <tr>\n",
       "      <th>501</th>\n",
       "      <td>ZBH</td>\n",
       "      <td>158.07</td>\n",
       "      <td>33119801615</td>\n",
       "      <td>12</td>\n",
       "    </tr>\n",
       "    <tr>\n",
       "      <th>502</th>\n",
       "      <td>ZBRA</td>\n",
       "      <td>393.49</td>\n",
       "      <td>21229515412</td>\n",
       "      <td>5</td>\n",
       "    </tr>\n",
       "    <tr>\n",
       "      <th>503</th>\n",
       "      <td>ZION</td>\n",
       "      <td>44.65</td>\n",
       "      <td>7151705916</td>\n",
       "      <td>44</td>\n",
       "    </tr>\n",
       "    <tr>\n",
       "      <th>504</th>\n",
       "      <td>ZTS</td>\n",
       "      <td>173.70</td>\n",
       "      <td>82166275075</td>\n",
       "      <td>11</td>\n",
       "    </tr>\n",
       "  </tbody>\n",
       "</table>\n",
       "<p>505 rows × 4 columns</p>\n",
       "</div>"
      ],
      "text/plain": [
       "    ticker  stock_price market_capitalization n_shares\n",
       "0        A       123.69           37523758197       16\n",
       "1      AAL        16.01            9881590306      123\n",
       "2      AAP       164.40           10916457531       12\n",
       "3     AAPL       139.19         2285425949314       14\n",
       "4     ABBV       110.54          192663522798       17\n",
       "..     ...          ...                   ...      ...\n",
       "500    YUM       111.11           34027277521       17\n",
       "501    ZBH       158.07           33119801615       12\n",
       "502   ZBRA       393.49           21229515412        5\n",
       "503   ZION        44.65            7151705916       44\n",
       "504    ZTS       173.70           82166275075       11\n",
       "\n",
       "[505 rows x 4 columns]"
      ]
     },
     "execution_count": 80,
     "metadata": {},
     "output_type": "execute_result"
    }
   ],
   "source": [
    "final_df"
   ]
  },
  {
   "cell_type": "markdown",
   "metadata": {},
   "source": [
    "## Formatting Our Excel Output\n",
    "\n",
    "We will be using the XlsxWriter library for Python to create nicely-formatted Excel files.\n",
    "\n",
    "XlsxWriter is an excellent package and offers tons of customization. However, the tradeoff for this is that the library can seem very complicated to new users. Accordingly, this section will be fairly long because I want to do a good job of explaining how XlsxWriter works.\n",
    "\n",
    "### Initializing our XlsxWriter Object"
   ]
  },
  {
   "cell_type": "code",
   "execution_count": 115,
   "metadata": {},
   "outputs": [],
   "source": [
    "writer = pd.ExcelWriter('Recommended_trades.xlsx', engine='xlsxwriter')"
   ]
  },
  {
   "cell_type": "code",
   "execution_count": 116,
   "metadata": {},
   "outputs": [],
   "source": [
    "final_df.to_excel(writer, 'Recommended trades', index=False)"
   ]
  },
  {
   "cell_type": "markdown",
   "metadata": {},
   "source": [
    "### Creating the Formats We'll Need For Our `.xlsx` File\n",
    "\n",
    "Formats include colors, fonts, and also symbols like `%` and `$`. We'll need four main formats for our Excel document:\n",
    "* String format for tickers\n",
    "* \\\\$XX.XX format for stock prices\n",
    "* \\\\$XX,XXX format for market capitalization\n",
    "* Integer format for the number of shares to purchase"
   ]
  },
  {
   "cell_type": "code",
   "execution_count": 117,
   "metadata": {},
   "outputs": [],
   "source": [
    "bg_colour = '#0a0a23'\n",
    "font_colour = '#ffffff'\n",
    "\n",
    "string_format = writer.book.add_format({\n",
    "    'font_color': font_colour,\n",
    "    'bg_color': bg_colour,\n",
    "    'border': 1,\n",
    "})\n",
    "\n",
    "dollar_format = writer.book.add_format({\n",
    "    'num_format': '$0.00',\n",
    "    'font_color': font_colour,\n",
    "    'bg_color': bg_colour,\n",
    "    'border': 1,\n",
    "})\n",
    "\n",
    "integer_format = writer.book.add_format({\n",
    "    'num_format': '0',\n",
    "    'font_color': font_colour,\n",
    "    'bg_color': bg_colour,\n",
    "    'border': 1,\n",
    "})"
   ]
  },
  {
   "cell_type": "markdown",
   "metadata": {},
   "source": [
    "### Applying the Formats to the Columns of Our `.xlsx` File\n",
    "\n",
    "We can use the `set_column` method applied to the `writer.sheets['Recommended Trades']` object to apply formats to specific columns of our spreadsheets.\n",
    "\n",
    "Here's an example:\n",
    "\n",
    "```python\n",
    "writer.sheets['Recommended Trades'].set_column('B:B', #This tells the method to apply the format to column B\n",
    "                     18, #This tells the method to apply a column width of 18 pixels\n",
    "                     string_template #This applies the format 'string_template' to the column\n",
    "                    )\n",
    "```"
   ]
  },
  {
   "cell_type": "code",
   "execution_count": 108,
   "metadata": {},
   "outputs": [],
   "source": [
    "#writer.sheets['Recommended trades'].set_column('A:A', 18, string_format)\n",
    "#writer.save()"
   ]
  },
  {
   "cell_type": "markdown",
   "metadata": {},
   "source": [
    "This code works, but it violates the software principle of \"Don't Repeat Yourself\". \n",
    "\n",
    "Let's simplify this by putting it in 2 loops:"
   ]
  },
  {
   "cell_type": "code",
   "execution_count": 118,
   "metadata": {},
   "outputs": [],
   "source": [
    "column_formats = {\n",
    "    'A': ['Ticker', string_format],\n",
    "    'B': ['Stock Price', dollar_format],\n",
    "    'C': ['Market Capitalization', integer_format],\n",
    "    'D': ['Number of shares', integer_format]\n",
    "}"
   ]
  },
  {
   "cell_type": "code",
   "execution_count": 119,
   "metadata": {},
   "outputs": [],
   "source": [
    "for column in column_formats:\n",
    "    writer.sheets['Recommended trades'].set_column(f'{column}:{column}', 18, column_formats[column][1])\n",
    "    writer.sheets['Recommended trades'].write(f\"{column}1\", column_formats[column][0], column_formats[column][1])\n"
   ]
  },
  {
   "cell_type": "markdown",
   "metadata": {},
   "source": [
    "## Saving Our Excel Output\n",
    "\n",
    "Saving our Excel file is very easy:"
   ]
  },
  {
   "cell_type": "code",
   "execution_count": 120,
   "metadata": {},
   "outputs": [],
   "source": [
    "writer.save()"
   ]
  }
 ],
 "metadata": {
  "kernelspec": {
   "display_name": "Python 3",
   "language": "python",
   "name": "python3"
  },
  "language_info": {
   "codemirror_mode": {
    "name": "ipython",
    "version": 3
   },
   "file_extension": ".py",
   "mimetype": "text/x-python",
   "name": "python",
   "nbconvert_exporter": "python",
   "pygments_lexer": "ipython3",
   "version": "3.8.6"
  }
 },
 "nbformat": 4,
 "nbformat_minor": 4
}
